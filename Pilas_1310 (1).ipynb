{
  "nbformat": 4,
  "nbformat_minor": 0,
  "metadata": {
    "colab": {
      "name": "Pilas_1310.ipynb",
      "provenance": [],
      "collapsed_sections": []
    },
    "kernelspec": {
      "name": "python3",
      "display_name": "Python 3"
    },
    "language_info": {
      "name": "python"
    }
  },
  "cells": [
    {
      "cell_type": "code",
      "metadata": {
        "id": "l03VbOrbARGZ"
      },
      "source": [
        "class StackADT:\n",
        "    def __init__( self ):\n",
        "        self.__data = list()\n",
        "  # regresa true y la lista vacuia\n",
        "    def is_empty( self ):\n",
        "        return len( self.__data ) == 0\n",
        "\n",
        "    def get_length( self ):\n",
        "        return len(self.__data)\n",
        "\n",
        "    def pop(self ):\n",
        "        if self.is_empty():\n",
        "            print(\"pila vacia, nada que sacar\")\n",
        "        else:\n",
        "            return self.__data.pop()\n",
        "\n",
        "    def peek( self ):\n",
        "        if self.is_empty():\n",
        "            print(\"pila vacia, nada que sacar\")\n",
        "        else:\n",
        "            return self.__data[ -1 ]\n",
        "\n",
        "    def push(self , value ):\n",
        "        self.__data.append(value)\n",
        "\n",
        "    def to_string(self):\n",
        "        for item in self.__data[::-1]:\n",
        "            print(f\"| { item } | \")\n",
        "\n",
        "    \n"
      ],
      "execution_count": 1,
      "outputs": []
    },
    {
      "cell_type": "code",
      "metadata": {
        "colab": {
          "base_uri": "https://localhost:8080/"
        },
        "id": "lgUAGJRtQMEt",
        "outputId": "99836998-a957-436a-aa41-55cabc2d7436"
      },
      "source": [
        "pila = StackADT()\n",
        "print(\"esta vacia\" , pila.is_empty())\n",
        "print(\"elementos \" , pila.get_length())\n",
        "pila.push(10)\n",
        "print(\"esta vacia\" , pila.is_empty())\n",
        "print(\"elementos \" , pila.get_length())\n",
        "pila.push(20)\n",
        "pila.push(30)\n",
        "pila.push(40)\n",
        "pila.to_string()\n",
        "print(pila.pop()) # 40\n",
        "print(pila.peek()) # 30\n",
        "pila.to_string()\n",
        "\n"
      ],
      "execution_count": 2,
      "outputs": [
        {
          "output_type": "stream",
          "name": "stdout",
          "text": [
            "esta vacia True\n",
            "elementos  0\n",
            "esta vacia False\n",
            "elementos  1\n",
            "| 40 | \n",
            "| 30 | \n",
            "| 20 | \n",
            "| 10 | \n",
            "40\n",
            "30\n",
            "| 30 | \n",
            "| 20 | \n",
            "| 10 | \n"
          ]
        }
      ]
    },
    {
      "cell_type": "markdown",
      "metadata": {
        "id": "9YUv8Vx8yiRx"
      },
      "source": [
        "# Aplicacion de pilas, balanceo de llaves en programación\n",
        "\n"
      ]
    },
    {
      "cell_type": "code",
      "metadata": {
        "colab": {
          "base_uri": "https://localhost:8080/"
        },
        "id": "sG4U27_wyhLQ",
        "outputId": "2143cca0-6208-444a-e6d6-329fb4081fec"
      },
      "source": [
        "!cat prog.txt"
      ],
      "execution_count": null,
      "outputs": [
        {
          "output_type": "stream",
          "name": "stdout",
          "text": [
            "cat: prog.txt: No such file or directory\n"
          ]
        }
      ]
    },
    {
      "cell_type": "code",
      "metadata": {
        "colab": {
          "base_uri": "https://localhost:8080/"
        },
        "id": "x9ihE60KzwPF",
        "outputId": "03fd3ff0-80ec-41e3-f381-5b6fd94bf58b"
      },
      "source": [
        "entrada = open('c, con error.txt', 'rt')  \n",
        "codigo = entrada.read()\n",
        "#print(codigo)\n",
        "pilaControl = StackADT()\n",
        "pilaControl.push(\"#\") # caracter de pila vacia\n",
        "# recorrer desde el 1er elemento hasta el ultimo\n",
        "\n",
        "for letra in codigo:\n",
        "   #print(f\"---> {letra} <---\")\n",
        "    if letra == '{': # relga 1\n",
        "       pilaControl.push(\"{\") \n",
        "    elif letra == \"}\": # regla 2\n",
        "        basura = pilaControl.pop()\n",
        "    else:\n",
        "        pass\n",
        "\n",
        "\n",
        "for letra in codigo:\n",
        "    if letra == '(':\n",
        "        pilaControl.push(\"(\")\n",
        "    elif letra == ')':\n",
        "        basura = pilaControl.pop()\n",
        "    else:\n",
        "        pass\n",
        "\n",
        "\n",
        "if pilaControl.peek() == '#': \n",
        "    print(\"El codigo proporcionado esta correctamente balanceado\")\n",
        "else:\n",
        "    print(\"El codigo no esta balanceado en llaves { y }\")\n"
      ],
      "execution_count": 8,
      "outputs": [
        {
          "output_type": "stream",
          "name": "stdout",
          "text": [
            "El codigo no esta balanceado en llaves { y }\n"
          ]
        }
      ]
    },
    {
      "cell_type": "markdown",
      "metadata": {
        "id": "2NHlYP3P7JJs"
      },
      "source": [
        "# Aplicacion de Pilas.\n",
        "## estrategia de diseño de BACKTRAKING\n"
      ]
    },
    {
      "cell_type": "code",
      "metadata": {
        "id": "oC50EoHo7VpK"
      },
      "source": [
        ""
      ],
      "execution_count": null,
      "outputs": []
    }
  ]
}